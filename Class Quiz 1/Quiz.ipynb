{
 "cells": [
  {
   "cell_type": "markdown",
   "id": "2bd38c3d",
   "metadata": {},
   "source": [
    "## Scenario 01: Employee Performance Evaluation\n",
    "\n",
    "In a large corporation, the HR department needs to evaluate the performance of employees based on their sales records and customer satisfaction ratings. They want to identify the top-performing employees based on a weighted score that combines sales performance and customer satisfaction.\n",
    "\n",
    "Hint: Use List comprehemsion & Lambda Functions\n",
    "\n",
    "#Sample data: List of tuples containing employee names, sales figures, and customer satisfaction ratings\n",
    "\n",
    "employees = [\n",
    "    (\"John\", 50000, 4.5),\n",
    "    (\"Alice\", 60000, 4.7),\n",
    "    (\"Bob\", 45000, 4.2),\n",
    "    (\"Emma\", 55000, 4.6),\n",
    "    (\"James\", 48000, 4.4)\n",
    "]\n",
    "\n",
    "#Define weights for sales performance and customer satisfaction ratings\n",
    "sales_weight = 0.6\n",
    "satisfaction_weight = 0.4"
   ]
  },
  {
   "cell_type": "code",
   "execution_count": 1,
   "id": "33c8ff89",
   "metadata": {},
   "outputs": [
    {
     "name": "stdout",
     "output_type": "stream",
     "text": [
      "Top Performing Employees:\n",
      "Name: Alice,  Score: 36001.88\n",
      "Name: Emma,  Score: 33001.84\n",
      "Name: John,  Score: 30001.8\n",
      "Name: James,  Score: 28801.76\n",
      "Name: Bob,  Score: 27001.68\n"
     ]
    }
   ],
   "source": [
    "employees = [\n",
    "    (\"John\", 50000, 4.5),\n",
    "    (\"Alice\", 60000, 4.7),\n",
    "    (\"Bob\", 45000, 4.2),\n",
    "    (\"Emma\", 55000, 4.6),\n",
    "    (\"James\", 48000, 4.4)\n",
    "]\n",
    "sales_weight = 0.6\n",
    "satisfaction_weight = 0.4\n",
    "\n",
    "sorted_weighted_scores = sorted([(employee[0],sales_weight * employee[1] + satisfaction_weight * employee[2]) for employee in employees], key=lambda x: x[1], reverse=True)\n",
    "print(\"Top Performing Employees:\")\n",
    "for employee in sorted_weighted_scores:\n",
    "    print(f\"Name: {employee[0]},  Score: {employee[1]}\")\n"
   ]
  },
  {
   "cell_type": "markdown",
   "id": "eaa274fb",
   "metadata": {},
   "source": [
    "## Scenario 02: Calculating Square Roots of Even Numbers\n",
    "\n",
    "Imagine you're tasked with calculating the square roots of even numbers from 1 to 10 using list comprehension and lambda functions."
   ]
  },
  {
   "cell_type": "code",
   "execution_count": 2,
   "id": "3f4f1d45",
   "metadata": {},
   "outputs": [
    {
     "name": "stdout",
     "output_type": "stream",
     "text": [
      "Square Roots From 1 to 10:\n",
      "2 : 1.414\n",
      "4 : 2.0\n",
      "6 : 2.449\n",
      "8 : 2.828\n",
      "10 : 3.162\n"
     ]
    }
   ],
   "source": [
    "square_roots = [(lambda x : round(x**0.5,3)) (x) for x in range(2, 11, 2)]\n",
    "print(f\"Square Roots From 1 to 10:\\n2 : {square_roots[0]}\\n4 : {square_roots[1]}\\n6 : {square_roots[2]}\\n8 : {square_roots[3]}\\n10 : {square_roots[4]}\")"
   ]
  }
 ],
 "metadata": {
  "kernelspec": {
   "display_name": "Python 3 (ipykernel)",
   "language": "python",
   "name": "python3"
  },
  "language_info": {
   "codemirror_mode": {
    "name": "ipython",
    "version": 3
   },
   "file_extension": ".py",
   "mimetype": "text/x-python",
   "name": "python",
   "nbconvert_exporter": "python",
   "pygments_lexer": "ipython3",
   "version": "3.11.5"
  }
 },
 "nbformat": 4,
 "nbformat_minor": 5
}
